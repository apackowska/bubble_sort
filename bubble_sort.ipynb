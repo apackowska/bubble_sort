{
 "cells": [
  {
   "cell_type": "code",
   "execution_count": 25,
   "id": "a8a9fba8",
   "metadata": {},
   "outputs": [],
   "source": [
    "def sort (list):\n",
    "    n = len(list)\n",
    "    while n>0:\n",
    "        for i in range(0, n-1):\n",
    "            if list[i]> list[i+1]:\n",
    "                list [i], list [i+1] = list[i+1], list[i]\n",
    "        n-=1\n",
    "        \n",
    "    return list"
   ]
  },
  {
   "cell_type": "code",
   "execution_count": 26,
   "id": "89ecd063",
   "metadata": {
    "scrolled": true
   },
   "outputs": [
    {
     "data": {
      "text/plain": [
       "[-10, -6, 2, 5, 8, 10, 12, 15]"
      ]
     },
     "execution_count": 26,
     "metadata": {},
     "output_type": "execute_result"
    }
   ],
   "source": [
    "sort([2, 8, 5, -6, -10, 10, 15, 12])"
   ]
  },
  {
   "cell_type": "code",
   "execution_count": null,
   "id": "b561ceda",
   "metadata": {},
   "outputs": [],
   "source": []
  }
 ],
 "metadata": {
  "kernelspec": {
   "display_name": "Python 3 (ipykernel)",
   "language": "python",
   "name": "python3"
  },
  "language_info": {
   "codemirror_mode": {
    "name": "ipython",
    "version": 3
   },
   "file_extension": ".py",
   "mimetype": "text/x-python",
   "name": "python",
   "nbconvert_exporter": "python",
   "pygments_lexer": "ipython3",
   "version": "3.9.7"
  }
 },
 "nbformat": 4,
 "nbformat_minor": 5
}
