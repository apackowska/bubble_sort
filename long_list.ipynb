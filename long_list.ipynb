{
 "cells": [
  {
   "cell_type": "code",
   "execution_count": 156,
   "id": "3fff4f28",
   "metadata": {},
   "outputs": [],
   "source": [
    "long_list = [str(i) for i in range (21)] + [str(i) for i in range (-1, -21, -1)]"
   ]
  },
  {
   "cell_type": "code",
   "execution_count": 157,
   "id": "ca3c2483",
   "metadata": {},
   "outputs": [
    {
     "data": {
      "text/plain": [
       "\"['0', '1', '2', '3', '4', '5', '6', '7', '8', '9', '10', '11', '12', '13', '14', '15', '16', '17', '18', '19', '20', '-1', '-2', '-3', '-4', '-5', '-6', '-7', '-8', '-9', '-10', '-11', '-12', '-13', '-14', '-15', '-16', '-17', '-18', '-19', '-20']\""
      ]
     },
     "execution_count": 157,
     "metadata": {},
     "output_type": "execute_result"
    }
   ],
   "source": [
    "str(long_list)"
   ]
  },
  {
   "cell_type": "code",
   "execution_count": 158,
   "id": "b68af0aa",
   "metadata": {},
   "outputs": [],
   "source": [
    "def absolute (x):\n",
    "    x = int(x)\n",
    "    return x if x>0 else -x"
   ]
  },
  {
   "cell_type": "code",
   "execution_count": 161,
   "id": "58d42ea4",
   "metadata": {},
   "outputs": [
    {
     "data": {
      "text/plain": [
       "\"['0', '1', '-1', '2', '-2', '3', '-3', '4', '-4', '5', '-5', '6', '-6', '7', '-7', '8', '-8', '9', '-9', '10', '-10', '11', '-11', '12', '-12', '13', '-13', '14', '-14', '15', '-15', '16', '-16', '17', '-17', '18', '-18', '19', '-19', '20', '-20']\""
      ]
     },
     "execution_count": 161,
     "metadata": {},
     "output_type": "execute_result"
    }
   ],
   "source": [
    "long_list.sort(key=absolute)\n",
    "str(long_list)"
   ]
  },
  {
   "cell_type": "code",
   "execution_count": null,
   "id": "8e125e19",
   "metadata": {},
   "outputs": [],
   "source": []
  }
 ],
 "metadata": {
  "kernelspec": {
   "display_name": "Python 3 (ipykernel)",
   "language": "python",
   "name": "python3"
  },
  "language_info": {
   "codemirror_mode": {
    "name": "ipython",
    "version": 3
   },
   "file_extension": ".py",
   "mimetype": "text/x-python",
   "name": "python",
   "nbconvert_exporter": "python",
   "pygments_lexer": "ipython3",
   "version": "3.9.7"
  }
 },
 "nbformat": 4,
 "nbformat_minor": 5
}
